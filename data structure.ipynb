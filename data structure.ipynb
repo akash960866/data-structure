{
 "cells": [
  {
   "cell_type": "code",
   "execution_count": 2,
   "id": "ccb7b026-8892-4020-b71c-7667f93c65f1",
   "metadata": {},
   "outputs": [
    {
     "name": "stdout",
     "output_type": "stream",
     "text": [
      "Before modification: [1, 2, 3]\n",
      "After modification: [1, 200, 3]\n"
     ]
    }
   ],
   "source": [
    "# Que(1)- What are data structures and why are they important in python?\n",
    "\n",
    "# Ans(1)- Data structures are specialized formats for organizing, managing, and storing data efficiently.\n",
    "        # They define the relationships between data and provide operations for accessing and modifying them. \n",
    "        # In Python, data structures help in solving complex problems efficiently.\n",
    "\n",
    "# 2. Data Structures Important in Python.\n",
    "\n",
    "        # 1. Efficient Data Management – They allow data to be stored and retrieved efficiently.\n",
    "        # 2. Improved Code Performance – Choosing the right data structure can speed up program execution.\n",
    "        # 3. Simplified Problem Solving – They provide organized ways to solve computational problems.\n",
    "        # 4. Flexibility – Python offers built-in and user-defined data structures for various needs.\n",
    "        # 5. Memory Optimization – Proper data structures reduce memory consumption and improve efficiency.\n",
    "\n",
    "# 1. Built-in Data Structures\n",
    "#       .Lists (list) – Ordered, mutable collections. Example: [1, 2, 3]\n",
    "#       .Tuples (tuple) – Ordered, immutable collections. Example: (1, 2, 3)\n",
    "#       .Sets (set) – Unordered, unique elements. Example: {1, 2, 3}\n",
    "#       .Dictionaries (dictIn programming, a \"mutable\" data type means you can change its value after it's \n",
    "#        created, while an \"immutable\" data type cannot be modified once it's been established; essentially, \n",
    "#        mutable data can be altered in place, while immutable data requires creating a new object to change its value. \n",
    "\n",
    "# 2. User-Defined and Advanced Data Structures\n",
    "#       .Stacks – Last-In-First-Out (LIFO) structure.\n",
    "#       .Queues – First-In-First-Out (FIFO) structure.\n",
    "#       .Linked Lists – Elements connected through nodes.\n",
    "#       .Graphs & Trees – Used in hierarchical and networked data representation.\n",
    "\n",
    "# Que(2)- Explain the diffrence between mutable and immutable data type with example?\n",
    "\n",
    "# Ans(2)- In programming, a \"mutable\" data type means you can change its value after it's created, while an \"immutable\"\n",
    "        # data type cannot be modified once it's been established; essentially, mutable data can be altered in place, \n",
    "        # while immutable data requires creating a new object to change its value.\n",
    "\n",
    "# Key points about mutable and immutable data types:\n",
    "     # Mutable: \n",
    "\n",
    "       # .Can be modified directly after creation. \n",
    "       # .Examples in Python: lists, dictionaries, sets. \n",
    "       # .Useful when you need to dynamically add, remove, or update elements within a collection. \n",
    "\n",
    "     # Immutable:\n",
    "      # .Cannot be changed after creation. \n",
    "      # .Examples in Python: strings, integers, tuples. \n",
    "      # .Often used for situations where data integrity is important and you want to prevent accidental modifications. \n",
    "\n",
    "# Mutable Data Type Example: List\n",
    "\n",
    "my_list = [1, 2, 3]\n",
    "print(\"Before modification:\", my_list)\n",
    "\n",
    "my_list[1] = 200  # Modifying an element\n",
    "print(\"After modification:\", my_list)\n",
    "\n",
    "\n",
    "\n",
    "\n"
   ]
  },
  {
   "cell_type": "code",
   "execution_count": 4,
   "id": "bdf70d8c-0d1c-4724-8389-8b7b345bcebf",
   "metadata": {},
   "outputs": [
    {
     "name": "stdout",
     "output_type": "stream",
     "text": [
      "Original: Hello\n"
     ]
    },
    {
     "ename": "TypeError",
     "evalue": "'str' object does not support item assignment",
     "output_type": "error",
     "traceback": [
      "\u001b[0;31m---------------------------------------------------------------------------\u001b[0m",
      "\u001b[0;31mTypeError\u001b[0m                                 Traceback (most recent call last)",
      "Cell \u001b[0;32mIn[4], line 6\u001b[0m\n\u001b[1;32m      3\u001b[0m my_str \u001b[38;5;241m=\u001b[39m \u001b[38;5;124m\"\u001b[39m\u001b[38;5;124mHello\u001b[39m\u001b[38;5;124m\"\u001b[39m\n\u001b[1;32m      4\u001b[0m \u001b[38;5;28mprint\u001b[39m(\u001b[38;5;124m\"\u001b[39m\u001b[38;5;124mOriginal:\u001b[39m\u001b[38;5;124m\"\u001b[39m, my_str)\n\u001b[0;32m----> 6\u001b[0m my_str[\u001b[38;5;241m0\u001b[39m] \u001b[38;5;241m=\u001b[39m \u001b[38;5;124m\"\u001b[39m\u001b[38;5;124mh\u001b[39m\u001b[38;5;124m\"\u001b[39m\n",
      "\u001b[0;31mTypeError\u001b[0m: 'str' object does not support item assignment"
     ]
    }
   ],
   "source": [
    "#Immutable Data Type Example: String\n",
    "\n",
    "my_str = \"Hello\"\n",
    "print(\"Original:\", my_str)\n",
    "\n",
    "my_str[0] = \"h\"  # Attempting to modify (will cause an error)\n"
   ]
  },
  {
   "cell_type": "code",
   "execution_count": 6,
   "id": "d2810f2c-410b-4d36-b6c3-4e9df647cdba",
   "metadata": {},
   "outputs": [],
   "source": [
    "# Que(3)- What are the main difference between list and tuple in Python?\n",
    "\n",
    "# Ans(3)- Main Differences Between List and Tuple in Python\n",
    "\n",
    "# Feature\t    List (list)                                          Tuple (tuple)\n",
    "\n",
    "# Mutability\tMutable (can be modified).\t                         I mmutable (cannot be modified).\n",
    "# Syntax\t    Defined using [] (square brackets).\t                 Defined using () (parentheses).\n",
    "# Performance\tSlower (because of mutability).\t                     Faster (optimized for immutability).\n",
    "# Memory Usage\tTakes more memory.\t                                 Uses less memory.\n",
    "# Operations\tSupports item addition, removal, modification.\t     Fixed once created, no modifications allowed.\n",
    "# Use Case\t    Used when data needs to change frequently.\t         Used for fixed collections of data.\n",
    "\n",
    "# Que(4)- Describe how dictionaries store data ?\n",
    "\n",
    "# ans(4)- A dictionary stores data in \"key-value pairs\", meaning each piece of information is associated with a \n",
    "          # unique key that acts as a label, allowing for quick access to the corresponding value by using the \n",
    "          # key to look it up; essentially, it's like a lookup table where you can find a specific value by \n",
    "          # providing its associated key. \n",
    "# Key points about dictionaries:\n",
    "          # .Structure: Each data entry in a dictionary is a pair: a key (which must be unique) and a value\n",
    "          #  (which can be any data type).\n",
    "          # .Access: To retrieve a value, you provide the corresponding key.\n",
    "          # Efficiency: Dictionaries are designed for fast lookups based on keys, making them ideal for\n",
    "          # scenarios where you need to quickly find specific data based on a unique identifier. \n",
    "\n",
    "# person_info = {\"name\": \"Alice\", \"age\": 30, \"city\": \"New York\"} \n",
    "\n",
    "          # \"name\": \"Alice\" - Here, \"name\" is the key and \"Alice\" is the value associated with it. \n",
    "          # To access Alice's name: You would use the key \"name\" to retrieve the value \"Alice\". \n",
    "#Important considerations:\n",
    "  #Key uniqueness:\n",
    "          # Keys within a dictionary must be unique, meaning you cannot have two entries with the same key.\n",
    "  # Key immutability:\n",
    "          # In most programming languages, keys in a dictionary usually need to be immutable\n",
    "          # data types like strings, integers, or tuples. "
   ]
  },
  {
   "cell_type": "code",
   "execution_count": 8,
   "id": "61ed50c9-7ece-4285-af8d-d59989a9d417",
   "metadata": {},
   "outputs": [
    {
     "name": "stdout",
     "output_type": "stream",
     "text": [
      "{'name': 'Bob', 'age': 25, 'department': 'IT'}\n",
      "Finance\n"
     ]
    }
   ],
   "source": [
    "# Que(5)- Why might you use a set instead of a list in Python?\n",
    "\n",
    "# Ans(5)- Uniqueness: Sets automatically remove duplicates, while lists allow duplicates.\n",
    "         # Faster Lookup: Membership tests (in) are faster in sets (O(1)) compared to lists (O(n)).\n",
    "         # Set Operations: Sets support efficient operations like union, intersection, and \n",
    "         # difference, while lists do not.\n",
    "         # Faster Removal: Removing elements is faster in sets (O(1)) than in lists (O(n)).\n",
    "         # Unordered: Sets do not maintain order, while lists do.\n",
    "\n",
    "#Que(6)- What is a string in python ,and how it is different from list?\n",
    "\n",
    "#Ans(6)- A string in Python is a sequence of characters enclosed in single (') or double (\") \n",
    "         # quotes. It is used to store and manipulate text data.\n",
    "         # my_string = \"Hello, world!\"\n",
    "\n",
    "# Key Characteristics of a String:\n",
    "         # .Immutable: Once a string is created, it cannot be changed.\n",
    "         # .Indexed: You can access individual characters using indices (starting from 0).\n",
    "         # .Supports Slicing: You can extract parts of the string using slicing.\n",
    "\n",
    "# Differences Between a String and a List.\n",
    "\n",
    "# Feature\t            String\t                                                                 List\n",
    "\n",
    "# Type\t          A sequence of characters.\t                                    A collection of elements of a type.\n",
    "# Mutability\t  Immutable (cannot be modified).\t                            Mutable (can be modified).\n",
    "# Elements\t      Characters (strings are sequences of characters).\t            Can contain any data type (e.g., integers, strings, other lists).\n",
    "# Access\t      Indexed (e.g., string[0])\tIndexed (e.g., list[0])\n",
    "# Operations\t  Supports string operations (concatenation, slicing, etc.).\tSupports list operations (append, remove, extend, etc.).\n",
    "# Use Cases \t Used for handling text.\t                                    Used for storing a collection of objects.\n",
    "\n",
    "\n",
    "#Que(7)- How do tuple ensure data integrity in python?\n",
    "\n",
    "#Ans(7)- Tuples in Python are immutable, meaning once a tuple is created, its elements \n",
    "         # cannot be changed, added, or removed. This immutability ensures data integrity because:\n",
    "\n",
    "# Prevents Accidental Modifications:  \n",
    "         # Since you cannot modify the elements of a tuple after its creation, it\n",
    "         # guarantees that the data remains unchanged throughout the program.\n",
    "         # This is useful for maintaining constant values, like coordinates or configuration settings.\n",
    "\n",
    "# Safe Sharing Across Code: \n",
    "         # Since tuples can't be altered, you can safely share them across different parts of your\n",
    "         # program without worrying that the data will be unintentionally modified.\n",
    "\n",
    "# Hashable: \n",
    "         # Tuples are hashable because of their immutability, meaning they can be used as keys \n",
    "         # in dictionaries or stored in sets. This makes them ideal for scenarios where the integrity \n",
    "         # of data needs to be maintained while ensuring efficient lookups.\n",
    "\n",
    "# Ensures Consistency:\n",
    "         # If you're using tuples to represent  structured data (like a record or a fixed set of values),\n",
    "         #  their immutability ensures that the data stays consistent and doesn't accidentally change. \n",
    "\n",
    "#Que(8)- What is a hash table and how does it relate to dictionaries in python?\n",
    "\n",
    "#Ans(8)- A hash table (or hash map) is a data structure that allows for efficient key-value pair storage \n",
    "         # and quick lookups. It works by using a hash function to convert a key into an index in an underlying\n",
    "         # array, where the corresponding value is stored.\n",
    "\n",
    "         # Key:             The identifier used to store and retrieve the data.\n",
    "         # Value:           The data associated with the key.\n",
    "         # Hash Function:   A function that computes an index from the key (typically an integer). \n",
    "         #                  This index is used to locate where the value should be stored in memory.\n",
    " \n",
    " # How a Hash Table Works:\n",
    "         # Hashing:        The key is passed through a hash function to produce a hash code.\n",
    "         # Indexing:       The hash code determines the index in the underlying array (or table) where the value is stored.\n",
    "         # Retrieval:      To retrieve a value, the key is hashed again, and the index is used to fetch the value in constant time.\n",
    "\n",
    "# Hash Tables in Python: Relation to Dictionaries\n",
    "         # In Python, dictionaries (dict) are implemented using hash tables under the hood. This means that Python \n",
    "         # dictionaries use the same principles for storing key-value pairs:\n",
    "\n",
    "         # Keys are hashed to determine where their associated values are stored.\n",
    "# Fast Lookups: Python dictionaries allow for average O(1) time complexity for lookups, insertions, \n",
    "         # and deletions due to the efficiency of hash tables.\n",
    "# Collisions:  When two different keys produce the same hash value (a collision), Python handles this \n",
    "         # by using techniques like open addressing or chaining to store the values.\n",
    "\n",
    "\n",
    "#Que(9)- Can list contain diffrent data types in python?\n",
    "\n",
    "#Ans(9)- Yes, a list in Python can contain elements of different data types. Python lists are heterogeneous,\n",
    "         # meaning they can store a mix of data types such as integers, strings, floats, booleans, and even other lists or objects.\n",
    "\n",
    "#Que(10)- Explain why string are immutable in python?\n",
    "\n",
    "#Ans(10)- Strings in Python are “immutable” which means they can not be changed after they are created.\n",
    "          # Some other immutable data types are integers, float, boolean, etc. \n",
    "\n",
    "          # The immutability of Python string is very useful as it helps in hashing, performance\n",
    "          #  optimization, safety, ease of use, etc.\n",
    "\n",
    "          # The article will explore the differences between mutable and immutable objects, highlighting \n",
    "          # the advantages of using immutable objects. It will also compare immutability with mutability, \n",
    "          # discussing various methods to handle immutability and achieve desired outcomes.\n",
    "          # Immutability is the property of an object according to which we can not change the object after\n",
    "          # we declared or after the creation of it and this Immutability in the case of the string is known \n",
    "          # as string immutability in Python.\n",
    "\n",
    "#Que(11)- What advantage do dictionary offer over list for certain tasks?\n",
    "\n",
    "#Ans(11)- Dictionaries have several advantages over lists for tasks that require fast lookups or searches\n",
    "          # Dictionaries are ideal for these tasks because they use a hash table to store key-value pairs,\n",
    "          # which allows for constant-time lookups.\n",
    "# Advantages of dictionaries\n",
    "          # Fast access: Dictionaries provide fast access to values based on their keys. \n",
    "          # Dynamic size: Dictionaries can be easily resized as needed. \n",
    "          # Flexible: Dictionaries can store any type of data as both the key and the value. \n",
    "          # Memory efficient: Dictionaries only store the key-value pairs that are needed. \n",
    "          # Easy to use: Dictionaries are easy to use and manipulate in Python. \n",
    "# When to use dictionaries \n",
    "\n",
    "# Quick lookups\n",
    "           # Dictionaries are ideal for tasks that require frequent lookups or searches, like mapping usernames to user data.\n",
    "           # Storing complex data structures\n",
    "           # Dictionaries are well-suited to storing complex data structures such as graphs and databases.\n",
    "           # When to use lists\n",
    "           # Ordered collections: Lists are the go-to for ordered collections, like a sequence of user actions. \n",
    "           # Sorting: Lists perform faster for ordered operations like sorting. \n",
    "           # You can create a dictionary in Python using the dict() function. \n",
    "\n",
    "# Que(12)- Describe a scenario where using a tuple would be preferable over a list\n",
    "\n",
    "# Ans(12)-  Imagine you are developing a mapping application that stores the geographic coordinates \n",
    "           # (latitude, longitude) of various locations. Since coordinates should not change once assigned,\n",
    "           # using a tuple is the better choice.\n",
    "\n",
    "           # Why Use a Tuple Instead of a List?\n",
    "           # Immutability for Data Integrity\n",
    " \n",
    "           # Tuples cannot be modified after creation, ensuring data consistency.\n",
    "           # Lists, on the other hand, can be modified, which might lead to accidental changes.\n",
    "           # Faster Performance\n",
    "\n",
    "           # Tuples are faster than lists for iteration and access because they have a smaller memory footprint.\n",
    "           # This is crucial when dealing with a large number of coordinate pairs.\n",
    "           # Hashable (Can Be Used as Dictionary Keys or Set Elements)\n",
    "\n",
    "           # Tuples are hashable, so they can be used as keys in a dictionary or stored in a set, while lists cannot.\n",
    "\n",
    "           # Use a Tuple Instead of a List?\n",
    "\n",
    "           # Use Case\t        Use Tuple When...\t                          Use List When...\n",
    "           # Data Integrity\t    The data should remain unchanged.\t          The data needs modifications.\n",
    "           # Performance\t    Faster access & iteration are needed.\t      Performance isn’t a concern.\n",
    "           # Memory Efficiency\tMemory constraints exist.\tMemory usage      isn't critical.\n",
    "           # Dictionary Keys\tThe data needs to be a key in a dictionary.\t  Not needed as a key.\n",
    "\n",
    "#Que(13)-  How does the \"in\" keyboard work diffrently for list and dictionaries?\n",
    "\n",
    "#Ans(13)-  When using the \"in\" keyword, it checks for membership within a data structure, but in a list,# \n",
    "           # it searches for the exact value within the list elements, while in a dictionary, it only checks \n",
    "           # if the given value exists as a key (not the value associated with that key). \n",
    "# Key points:\n",
    "           # List: \"in\" checks if a specific value is present anywhere within the list of elements. \n",
    "# Dictionary:\n",
    "           # \"in\" checks if a specific value is present as a key in the dictionary.\n",
    "\n",
    "#Que(14)- How does set handle duplicate values in python?\n",
    "\n",
    "#Ans(14)- Sets in Python are designed to store unique elements, meaning they automatically handle duplicate values by discarding them.\n",
    "          # Here's how it works:\n",
    "# When you create a set:\n",
    "          # If you add duplicate elements during the creation of a set, only one instance of each element is kept.\n",
    "# When you add elements to an existing set:\n",
    "          # If you try to add an element that already exists in the set, the set remains unchanged.\n",
    "\n",
    "\n",
    "#Que(15)- can you modify the elements of a tuple ?Explain why or why not .\n",
    "\n",
    "#Ans (15)- No, you cannot modify the elements of a tuple in Python because tuples are immutable.\n",
    "          # This means that once a tuple is created, its elements cannot be changed, added, or removed. \n",
    "# Explanation\n",
    "          # Tuples are immutable, unlike lists, which are mutable. \n",
    "          # Tuples are used to convey that the sequence of values should not be changed. \n",
    "          # If you try to modify a tuple element, you will receive a TypeError error. \n",
    "          # You can't add elements to a tuple because there's no append() or extend() method for tuples. \n",
    "          # You can't remove elements from a tuple because of their immutability. \n",
    "\n",
    "\n",
    "#Que(16)- What is nested dictionary ,and give an example of its use case?\n",
    "\n",
    "#Ans(16)- A nested dictionary is a dictionary inside another dictionary. It allows storing complex\n",
    "          # hierarchical data, making it useful for structured information like JSON data, configurations, \n",
    "          # or database-like records.\n",
    "# Example Use Case: Storing Employee Records\n",
    "          # Imagine you're building an HR system to store employee details. \n",
    "          # Each employee has a unique ID, and their details \n",
    "          # (name, age, department, etc.) are stored in a nested dictionary.\n",
    "\n",
    "employees = {\n",
    "    101: {\"name\": \"Alice\", \"age\": 30, \"department\": \"HR\"},\n",
    "    102: {\"name\": \"Bob\", \"age\": 25, \"department\": \"IT\"},\n",
    "    103: {\"name\": \"Charlie\", \"age\": 28, \"department\": \"Finance\"},\n",
    "}\n",
    "\n",
    "# Accessing Bob's details\n",
    "print(employees[102])  \n",
    "# Output: {'name': 'Bob', 'age': 25, 'department': 'IT'}\n",
    "\n",
    "# Getting Charlie's department\n",
    "print(employees[103][\"department\"])  \n",
    "# Output: Finance\n",
    "\n",
    "# Adding a new employee\n",
    "employees[104] = {\"name\": \"David\", \"age\": 35, \"department\": \"Marketing\"}\n"
   ]
  },
  {
   "cell_type": "code",
   "execution_count": null,
   "id": "1748da68-da8e-4496-85df-7b863350b147",
   "metadata": {},
   "outputs": [],
   "source": [
    "#Que(17)- Describe the time complexity of accessing elements in a dictionary.\n",
    "\n",
    "#Ans(17)- The time complexity of accessing an element in a Python dictionary is O(1), which means it's constant time.\n",
    "          # This is because Python dictionaries use a hash table internally, which allows for fast lookups.            \n",
    "# Explanation :   \n",
    "          # Time complexity is a measure of how much time it takes to run an algorithm. \n",
    "          # O(1) time complexity means that the time it takes to perform an operation is\n",
    "          # constant, regardless of the size of the input.  The time complexity of dictionary\n",
    "          # operations in Python depends on the size of the dictionary and the operation being performed. \n",
    "# Other dictionary operations and their time complexity    .\n",
    "          #  Adding a key-value pair: O(1) on average, but can be O(n) in the worst case.\n",
    "          # Modifying a value by key: O(1) on average, but can be O(n) in the worst case .\n",
    "          # Removing a key-value pair by key: O(1) on average, but can be O(n) in the worst case.\n",
    "# Iterating over the keys, values, or items: O(n), where O(n) is the number of key-value pairs in the dictionary.\n",
    "\n",
    "#Que(18)- In what situation are list preferred over dictionary?\n",
    "\n",
    "#Ans(18)- A list is preferred over a dictionary when the order of elements within the collection is \n",
    "          # important and you need to frequently access elements based on their position in the sequence,\n",
    "          # rather than using unique keys to look up values; essentially, when you need to perform \n",
    "          # operations that rely on the order of items, like iteration through a sequence or manipulating\n",
    "          # elements based on their index. \n",
    "\n",
    "#Que(19)- Why are dictionary considered unordered and how does that affect data retrieval? \n",
    "\n",
    "#Ans (19)- Dictionaries are considered unordered because they do not maintain a specific sequence when storing \n",
    "          # key-value pairs, meaning the order in which items are added to the dictionary does not affect how \n",
    "          # they are accessed; the primary focus is on retrieving data quickly using a unique key, not iterating\n",
    "          # through the data in a particular order; this design optimizes data retrieval by allowing for fast \n",
    "          # lookups based on the key, but it means you cannot rely on the order of items when looping through a dictionary.\n",
    "# Key-based access:\n",
    "          # The main advantage of dictionaries is that you can access data directly using a key, which is much faster\n",
    "          # than searching through a list by index.\n",
    "# No inherent order:\n",
    "          # When you iterate through a dictionary, the order of key-value pairs is not guaranteed to be the same as the insertion order. \n",
    "# mpact on data retrieval:\n",
    "# Faster lookups: \n",
    "          # Because the focus is on key-based access, dictionaries are very efficient for retrieving specific values quickly using \n",
    "          # their corresponding keys. \n",
    "# No sequential access: \n",
    "          # If you need to access data in a specific order, you should use a different data structure like a list or a custom\n",
    "          # ordered dictionary implementation.\n",
    "\n",
    "#Que(20)- Why are dictionary considered unordered and how does that affect data retrieval?\n",
    "\n",
    "#Ans(20)- 1. List (Ordered, Indexed Retrieval)\n",
    "          # A list is an ordered collection of elements.\n",
    "          # Data is retrieved using zero-based indexing (e.g., list[0] for the first element).\n",
    "          # Retrieval time is O(1) (constant time) if the index is known.\n",
    "          # Searching for an element without an index (e.g., if x in list) takes O(n) \n",
    "          # time because it requires scanning the entire list.\n",
    " # 2. Dictionary (Unordered, Key-Based Retrieval)\n",
    "          # A dictionary is an unordered collection of key-value pairs.\n",
    "          # Data is retrieved using a unique key (e.g., dict[\"name\"]).\n",
    "          # Retrieval time is O(1) on average because dictionaries use a hash table for fast lookups.\n",
    "          # Searching for a value (without knowing the key) requires O(n) time, just like lists.\n",
    "\n",
    " #   Key Differences in Retrieval \n",
    "\n",
    "          # Feature\t                  List\t                                       Dictionary\n",
    "\n",
    "          # Retrieval Method\tIndex-based (list[i])\t                    Key-based (dict[key])\n",
    "          # Lookup Speed       \tO(1) (if index known),                      nO(n) (if searching)\tO(1) (average)\n",
    "          # Order\t            Maintains order (since Python 3.7+)\t        Maintains insertion order (since Python 3.7+)\n",
    "          # Key Uniqueness\t    No concept of keys\t                        Keys must be unique\n",
    "          # Use Case\t        Sequential storage (e.g., arrays)          \tFast lookups with key-value pairs"
   ]
  },
  {
   "cell_type": "code",
   "execution_count": 10,
   "id": "e10bb412-6635-4708-9c6e-77e082d4b987",
   "metadata": {},
   "outputs": [
    {
     "name": "stdout",
     "output_type": "stream",
     "text": [
      "akash_patel\n"
     ]
    }
   ],
   "source": [
    "########################### PRACTICAL QUESTION ###################################\n",
    "\n",
    "#Que(1)- Write a code to create a string with yoyr name and print it.\n",
    "\n",
    "name = \"akash_patel\"\n",
    "print(name)"
   ]
  },
  {
   "cell_type": "code",
   "execution_count": 12,
   "id": "5c4ade75-cb2b-4d47-9bd2-3541ea73df76",
   "metadata": {},
   "outputs": [
    {
     "name": "stdout",
     "output_type": "stream",
     "text": [
      "11\n"
     ]
    }
   ],
   "source": [
    "#Que(2)- Write a code to find a the length of the string \"Hello World\".\n",
    "\n",
    "string = \"Hello World\"\n",
    "length = len(string)\n",
    "print(length)"
   ]
  },
  {
   "cell_type": "code",
   "execution_count": 14,
   "id": "dd74f4c1-24db-4a07-b496-e594fcb1cd6e",
   "metadata": {},
   "outputs": [
    {
     "name": "stdout",
     "output_type": "stream",
     "text": [
      "Pyt\n"
     ]
    }
   ],
   "source": [
    "#Que(3)- Write a code to slice the first 3 characters from the string \"Python Programming\".\n",
    "\n",
    "string = \"Python Programming\"\n",
    "sliced_string = string[:3]  # Slices from index 0 to 2\n",
    "print(sliced_string)"
   ]
  },
  {
   "cell_type": "code",
   "execution_count": 16,
   "id": "c420c62a-1603-412c-9a02-3555897ee6d2",
   "metadata": {},
   "outputs": [
    {
     "name": "stdout",
     "output_type": "stream",
     "text": [
      "HELLO\n"
     ]
    }
   ],
   "source": [
    "#Que(4)- Write a code to convert the string \"hello\" to uppercase.\n",
    "\n",
    "string = \"hello\"\n",
    "uppercase_string = string.upper()\n",
    "print(uppercase_string)\n"
   ]
  },
  {
   "cell_type": "code",
   "execution_count": 18,
   "id": "d234ba9b-e521-42f9-8fc1-0b506519dea9",
   "metadata": {},
   "outputs": [
    {
     "name": "stdout",
     "output_type": "stream",
     "text": [
      "i like orange\n"
     ]
    }
   ],
   "source": [
    "#Que(5)- Write a code to replace the word \"apple\"with \"orange\" in the string \"i like apple\".\n",
    "\n",
    "string = \"i like apple\"\n",
    "new_string = string.replace(\"apple\", \"orange\")\n",
    "print(new_string)\n"
   ]
  },
  {
   "cell_type": "code",
   "execution_count": 20,
   "id": "1e456f78-1c97-4301-a98b-d0696320b003",
   "metadata": {},
   "outputs": [
    {
     "name": "stdout",
     "output_type": "stream",
     "text": [
      "[1, 2, 3, 4, 5]\n"
     ]
    }
   ],
   "source": [
    "#Que(6)- Write a code to create a list number 1 to 5 and print it .\n",
    "\n",
    "numbers = list(range(1, 6))\n",
    "print(numbers)\n"
   ]
  },
  {
   "cell_type": "code",
   "execution_count": 22,
   "id": "2f98b2ed-4880-4239-929e-fced54db5a7f",
   "metadata": {},
   "outputs": [
    {
     "name": "stdout",
     "output_type": "stream",
     "text": [
      "[1, 2, 3, 4, 10]\n"
     ]
    }
   ],
   "source": [
    "#Que(7)- Write a code to append the number 10 to the list [1, 2, 3, 4].\n",
    "\n",
    "numbers = [1, 2, 3, 4]\n",
    "numbers.append(10)  # Appends 10 to the end of the list\n",
    "print(numbers)\n"
   ]
  },
  {
   "cell_type": "code",
   "execution_count": 24,
   "id": "7c37dfd8-6035-4c4c-b905-fb80456b3a5b",
   "metadata": {},
   "outputs": [
    {
     "name": "stdout",
     "output_type": "stream",
     "text": [
      "[1, 2, 4, 5]\n"
     ]
    }
   ],
   "source": [
    "#Que(8)-  Write a code to remove the number 3 from the list [1, 2, 3, 4, 5].\n",
    "\n",
    "numbers = [1, 2, 3, 4, 5]\n",
    "numbers.remove(3)  # Removes the first occurrence of 3\n",
    "print(numbers)\n"
   ]
  },
  {
   "cell_type": "code",
   "execution_count": 26,
   "id": "ffb52346-3808-4408-92ff-2dd9d60f7e50",
   "metadata": {},
   "outputs": [
    {
     "name": "stdout",
     "output_type": "stream",
     "text": [
      "b\n"
     ]
    }
   ],
   "source": [
    "#Que(9)- P Write a code to access the second element in the list ['a', 'b', 'c', 'd']\n",
    "\n",
    "letters = ['a', 'b', 'c', 'd']\n",
    "second_element = letters[1]  # Index 1 refers to the second element\n",
    "print(second_element)\n"
   ]
  },
  {
   "cell_type": "code",
   "execution_count": 28,
   "id": "863add77-c76a-4a05-9a6d-da99710d6c23",
   "metadata": {},
   "outputs": [
    {
     "name": "stdout",
     "output_type": "stream",
     "text": [
      "[50, 40, 30, 20, 10]\n"
     ]
    }
   ],
   "source": [
    "#Que(10)-  Write a code to reverse the list [10, 20, 30, 40, 50].\n",
    "\n",
    "numbers = [10, 20, 30, 40, 50]\n",
    "reversed_numbers = numbers[::-1]  # Reverses the list using slicing\n",
    "print(reversed_numbers)\n"
   ]
  },
  {
   "cell_type": "code",
   "execution_count": 30,
   "id": "6e545196-bd59-4496-a291-3c72129f7198",
   "metadata": {},
   "outputs": [
    {
     "name": "stdout",
     "output_type": "stream",
     "text": [
      "(100, 200, 300)\n"
     ]
    }
   ],
   "source": [
    "#Que(11)-  Write a code to create a tuple with the elements 100, 200, 300 and print it.\n",
    "\n",
    "my_tuple = (100, 200, 300)\n",
    "print(my_tuple)\n"
   ]
  },
  {
   "cell_type": "code",
   "execution_count": 32,
   "id": "9a770f2b-4560-47fa-839d-365440941a7d",
   "metadata": {},
   "outputs": [
    {
     "name": "stdout",
     "output_type": "stream",
     "text": [
      "blue\n"
     ]
    }
   ],
   "source": [
    "#Que(12)- Write a code to access the second-to-last element of the tuple ('red', 'green', 'blue', 'yellow')\n",
    "\n",
    "colors = ('red', 'green', 'blue', 'yellow')\n",
    "second_to_last = colors[-2]  # Accessing the second-to-last element\n",
    "print(second_to_last)\n"
   ]
  },
  {
   "cell_type": "code",
   "execution_count": 34,
   "id": "5b8dbd74-c423-4199-abec-4dbd3cb42e05",
   "metadata": {},
   "outputs": [
    {
     "name": "stdout",
     "output_type": "stream",
     "text": [
      "5\n"
     ]
    }
   ],
   "source": [
    "#Que(13)- Write a code to find the minimum number in the tuple (10, 20, 5, 15).\n",
    "\n",
    "numbers = (10, 20, 5, 15)\n",
    "min_number = min(numbers)  # Finds the minimum value in the tuple\n",
    "print(min_number)\n"
   ]
  },
  {
   "cell_type": "code",
   "execution_count": 36,
   "id": "328542ae-4af1-4d44-b091-479c94b45acf",
   "metadata": {},
   "outputs": [
    {
     "name": "stdout",
     "output_type": "stream",
     "text": [
      "1\n"
     ]
    }
   ],
   "source": [
    "#Que(14)-  Write a code to find the index of the element \"cat\" in the tuple ('dog', 'cat', 'rabbit').\n",
    "\n",
    "animals = ('dog', 'cat', 'rabbit')\n",
    "index_of_cat = animals.index('cat')  # Finds the index of \"cat\"\n",
    "print(index_of_cat)\n"
   ]
  },
  {
   "cell_type": "code",
   "execution_count": 38,
   "id": "0fe0ce5c-57ac-447f-bd6f-2a277c7ccea3",
   "metadata": {},
   "outputs": [
    {
     "name": "stdout",
     "output_type": "stream",
     "text": [
      "False\n"
     ]
    }
   ],
   "source": [
    "#Que(15)-  Write a code to create a tuple containing three different fruits and check if \"kiwi\" is in it\n",
    "\n",
    "fruits = ('apple', 'banana', 'orange')\n",
    "is_kiwi_in_fruits = 'kiwi' in fruits  # Checks if \"kiwi\" is in the tuple\n",
    "print(is_kiwi_in_fruits)\n"
   ]
  },
  {
   "cell_type": "code",
   "execution_count": 40,
   "id": "96b257bd-7275-48b3-8653-d9b5b0eb34d5",
   "metadata": {},
   "outputs": [
    {
     "name": "stdout",
     "output_type": "stream",
     "text": [
      "{'c', 'a', 'b'}\n"
     ]
    }
   ],
   "source": [
    "#Que(16)-  Write a code to create a set with the elements 'a', 'b', 'c' and print it.\n",
    "\n",
    "my_set = {'a', 'b', 'c'}\n",
    "print(my_set)\n"
   ]
  },
  {
   "cell_type": "code",
   "execution_count": 42,
   "id": "f3c6b71f-44db-4eb2-9b8c-a71897c1e125",
   "metadata": {},
   "outputs": [
    {
     "name": "stdout",
     "output_type": "stream",
     "text": [
      "{'c', 'a', 'b'}\n"
     ]
    }
   ],
   "source": [
    "#Que(17)- Write a code to clear all elements from the set {1, 2, 3, 4, 5}.\n",
    "\n",
    "my_set = {'a', 'b', 'c'}\n",
    "print(my_set)\n"
   ]
  },
  {
   "cell_type": "code",
   "execution_count": 44,
   "id": "6ad7eae8-1c83-41cd-8a80-48d4d65742f1",
   "metadata": {},
   "outputs": [
    {
     "name": "stdout",
     "output_type": "stream",
     "text": [
      "{1, 2, 3}\n"
     ]
    }
   ],
   "source": [
    "#Que(18)- Write a code to remove the element 4 from the set {1, 2, 3, 4}.\n",
    "\n",
    "my_set = {1, 2, 3, 4}\n",
    "my_set.remove(4)  # Removes the element 4 from the set\n",
    "print(my_set)\n"
   ]
  },
  {
   "cell_type": "code",
   "execution_count": 46,
   "id": "990c40bd-be2d-4d85-9a32-11cfa99c60ab",
   "metadata": {},
   "outputs": [
    {
     "name": "stdout",
     "output_type": "stream",
     "text": [
      "{1, 2, 3, 4, 5}\n"
     ]
    }
   ],
   "source": [
    "#Que(19)- Write a code to find the union of two sets {1, 2, 3} and {3, 4, 5}.\n",
    "\n",
    "set1 = {1, 2, 3}\n",
    "set2 = {3, 4, 5}\n",
    "\n",
    "union_set = set1 | set2  # Using the '|' operator for union\n",
    "# Alternatively, you can use set1.union(set2)\n",
    "\n",
    "print(union_set)\n"
   ]
  },
  {
   "cell_type": "code",
   "execution_count": 48,
   "id": "01b07189-57f4-4405-bc07-5aaa2d7c13c0",
   "metadata": {},
   "outputs": [
    {
     "name": "stdout",
     "output_type": "stream",
     "text": [
      "{2, 3}\n"
     ]
    }
   ],
   "source": [
    "#Que(20)-  Write a code to find the intersection of two sets {1, 2, 3} and {2, 3, 4}.\n",
    "\n",
    "set1 = {1, 2, 3}\n",
    "set2 = {2, 3, 4}\n",
    "\n",
    "intersection_set = set1 & set2  # Using the '&' operator for intersection\n",
    "# Alternatively, you can use set1.intersection(set2)\n",
    "\n",
    "print(intersection_set)\n"
   ]
  },
  {
   "cell_type": "code",
   "execution_count": 50,
   "id": "f73c6878-de1c-4336-911d-403159f3658b",
   "metadata": {},
   "outputs": [
    {
     "name": "stdout",
     "output_type": "stream",
     "text": [
      "{'name': 'John', 'age': 30, 'city': 'New York'}\n"
     ]
    }
   ],
   "source": [
    "#Que(21)- Write a code to create a dictionary with the keys \"name\", \"age\", and \"city\", and print it.\n",
    "\n",
    "my_dict = {\n",
    "    \"name\": \"John\",\n",
    "    \"age\": 30,\n",
    "    \"city\": \"New York\"\n",
    "}\n",
    "print(my_dict)\n"
   ]
  },
  {
   "cell_type": "code",
   "execution_count": 52,
   "id": "b9df1a08-48b2-48f2-8e90-e3230f0c07b6",
   "metadata": {},
   "outputs": [
    {
     "name": "stdout",
     "output_type": "stream",
     "text": [
      "{'name': 'John', 'age': 25, 'country': 'USA'}\n"
     ]
    }
   ],
   "source": [
    "#Que(22)-  Write a code to add a new key-value pair \"country\": \"USA\" to the dictionary {'name': 'John', 'age': 25}.\n",
    "\n",
    "my_dict = {'name': 'John', 'age': 25}\n",
    "my_dict[\"country\"] = \"USA\"  # Adding the new key-value pair\n",
    "print(my_dict)\n"
   ]
  },
  {
   "cell_type": "code",
   "execution_count": 54,
   "id": "b9de27ef-9af9-42a8-ba47-41e540aa6acd",
   "metadata": {},
   "outputs": [
    {
     "name": "stdout",
     "output_type": "stream",
     "text": [
      "Alice\n"
     ]
    }
   ],
   "source": [
    "#Que(23)- Write a code to access the value associated with the key \"name\" in the dictionary {'name': 'Alice', 'age': 30}.\n",
    "\n",
    "my_dict = {'name': 'Alice', 'age': 30}\n",
    "name_value = my_dict['name']  # Accessing the value associated with the key 'name'\n",
    "print(name_value)\n"
   ]
  },
  {
   "cell_type": "code",
   "execution_count": 56,
   "id": "2cf443a3-2ade-4325-9e20-5eac33460fe4",
   "metadata": {},
   "outputs": [
    {
     "name": "stdout",
     "output_type": "stream",
     "text": [
      "{'name': 'Bob', 'city': 'New York'}\n"
     ]
    }
   ],
   "source": [
    "#Que(24)-  Write a code to remove the key \"age\" from the dictionary {'name': 'Bob', 'age': 22, 'city': 'New York'}.\n",
    "\n",
    "my_dict = {'name': 'Bob', 'age': 22, 'city': 'New York'}\n",
    "del my_dict['age']  # Removes the key 'age' and its associated value\n",
    "print(my_dict)\n"
   ]
  },
  {
   "cell_type": "code",
   "execution_count": 58,
   "id": "65d07bf9-1e55-4239-999e-43036c7fe99f",
   "metadata": {},
   "outputs": [
    {
     "name": "stdout",
     "output_type": "stream",
     "text": [
      "True\n"
     ]
    }
   ],
   "source": [
    "#Que(25)- Write a code to check if the key \"city\" exists in the dictionary {'name': 'Alice', 'city': 'Paris'}.\n",
    "\n",
    "my_dict = {'name': 'Alice', 'city': 'Paris'}\n",
    "key_exists = 'city' in my_dict  # Checks if the key 'city' exists\n",
    "print(key_exists)\n"
   ]
  },
  {
   "cell_type": "code",
   "execution_count": 60,
   "id": "cafd841b-c302-4771-8a54-2c27776df89c",
   "metadata": {},
   "outputs": [
    {
     "name": "stdout",
     "output_type": "stream",
     "text": [
      "List: [1, 2, 3, 4, 5]\n",
      "Tuple: ('apple', 'banana', 'cherry')\n",
      "Dictionary: {'name': 'Alice', 'age': 30, 'city': 'Paris'}\n"
     ]
    }
   ],
   "source": [
    "#Que(26)- Write a code to create a list, a tuple, and a dictionary, and print them all.\n",
    "\n",
    "# Creating a list\n",
    "my_list = [1, 2, 3, 4, 5]\n",
    "\n",
    "# Creating a tuple\n",
    "my_tuple = ('apple', 'banana', 'cherry')\n",
    "\n",
    "# Creating a dictionary\n",
    "my_dict = {'name': 'Alice', 'age': 30, 'city': 'Paris'}\n",
    "\n",
    "# Printing all\n",
    "print(\"List:\", my_list)\n",
    "print(\"Tuple:\", my_tuple)\n",
    "print(\"Dictionary:\", my_dict)\n"
   ]
  },
  {
   "cell_type": "code",
   "execution_count": 62,
   "id": "49920a16-1964-4b66-9675-131028376d36",
   "metadata": {},
   "outputs": [
    {
     "name": "stdout",
     "output_type": "stream",
     "text": [
      "[34, 65, 78, 84, 94]\n"
     ]
    }
   ],
   "source": [
    "#Que(27)- Write a code to create a list of 5 random numbers between 1 and 100, sort it in ascending order, and print the\n",
    "          # result.(replaced)\n",
    "\n",
    "import random\n",
    "\n",
    "# Creating a list of 5 random numbers between 1 and 100\n",
    "random_numbers = [random.randint(1, 100) for _ in range(5)]\n",
    "\n",
    "# Sorting the list in ascending order\n",
    "random_numbers.sort()\n",
    "\n",
    "# Printing the sorted list\n",
    "print(random_numbers)\n"
   ]
  },
  {
   "cell_type": "code",
   "execution_count": 64,
   "id": "fead8ec7-4815-4492-8368-b3bbbb985b50",
   "metadata": {},
   "outputs": [
    {
     "name": "stdout",
     "output_type": "stream",
     "text": [
      "date\n"
     ]
    }
   ],
   "source": [
    "#Que(28)-  Write a code to create a list with strings and print the element at the third index.\n",
    "\n",
    "my_list = ['apple', 'banana', 'cherry', 'date', 'elderberry']\n",
    "\n",
    "# Printing the element at the third index\n",
    "print(my_list[3])\n"
   ]
  },
  {
   "cell_type": "code",
   "execution_count": 66,
   "id": "9c1c08db-cd2c-4e49-96d6-902204f42b52",
   "metadata": {},
   "outputs": [
    {
     "name": "stdout",
     "output_type": "stream",
     "text": [
      "{'name': 'Alice', 'age': 30, 'city': 'Paris', 'country': 'France'}\n"
     ]
    }
   ],
   "source": [
    "#Que(29)- Write a code to combine two dictionaries into one and print the result.\n",
    "\n",
    "dict1 = {'name': 'Alice', 'age': 30}\n",
    "dict2 = {'city': 'Paris', 'country': 'France'}\n",
    "\n",
    "# Combining the dictionaries\n",
    "dict1.update(dict2)\n",
    "\n",
    "# Printing the combined dictionary\n",
    "print(dict1)\n"
   ]
  },
  {
   "cell_type": "code",
   "execution_count": 68,
   "id": "7b2c2ae0-6e57-4ac7-964c-20d743296edf",
   "metadata": {},
   "outputs": [
    {
     "name": "stdout",
     "output_type": "stream",
     "text": [
      "{'cherry', 'apple', 'date', 'banana'}\n"
     ]
    }
   ],
   "source": [
    "#Que(30)-  Write a code to convert a list of strings into a set.\n",
    "\n",
    "my_list = ['apple', 'banana', 'cherry', 'apple', 'date']\n",
    "\n",
    "# Converting the list into a set\n",
    "my_set = set(my_list)\n",
    "\n",
    "# Printing the set\n",
    "print(my_set)\n"
   ]
  },
  {
   "cell_type": "code",
   "execution_count": null,
   "id": "f4b23467-29e8-4c6d-b8a0-c0bd88935073",
   "metadata": {},
   "outputs": [],
   "source": []
  }
 ],
 "metadata": {
  "kernelspec": {
   "display_name": "Python [conda env:base] *",
   "language": "python",
   "name": "conda-base-py"
  },
  "language_info": {
   "codemirror_mode": {
    "name": "ipython",
    "version": 3
   },
   "file_extension": ".py",
   "mimetype": "text/x-python",
   "name": "python",
   "nbconvert_exporter": "python",
   "pygments_lexer": "ipython3",
   "version": "3.12.7"
  }
 },
 "nbformat": 4,
 "nbformat_minor": 5
}
